{
 "cells": [
  {
   "cell_type": "markdown",
   "metadata": {},
   "source": [
    "# Creating a rest program"
   ]
  },
  {
   "cell_type": "code",
   "execution_count": null,
   "metadata": {},
   "outputs": [],
   "source": [
    "#pip3 install pyautogui"
   ]
  },
  {
   "cell_type": "code",
   "execution_count": 1,
   "metadata": {},
   "outputs": [],
   "source": [
    "import pyautogui as mc\n",
    "import time"
   ]
  },
  {
   "cell_type": "code",
   "execution_count": 2,
   "metadata": {},
   "outputs": [
    {
     "name": "stdout",
     "output_type": "stream",
     "text": [
      "Size(width=1440, height=900)\n"
     ]
    }
   ],
   "source": [
    "print(mc.size()) # finding out screen size"
   ]
  },
  {
   "cell_type": "code",
   "execution_count": 3,
   "metadata": {},
   "outputs": [
    {
     "name": "stdout",
     "output_type": "stream",
     "text": [
      "Point(x=70, y=496)\n"
     ]
    }
   ],
   "source": [
    "print(mc.position()) # to determine where on paint your are at \"ctrl enter\" for windows "
   ]
  },
  {
   "cell_type": "code",
   "execution_count": null,
   "metadata": {},
   "outputs": [],
   "source": [
    "mc.FAILSAFE = True # break out of program by dragging mouse to upper left\n",
    "\n",
    "time.sleep(1) # 1 is the number of seconds\n",
    "i = 0\n",
    "#code to draw a square 5 times\n",
    "for i in range(5):\n",
    "    mc.moveTo(79+i,258+i)\n",
    "    mc.dragRel(200,0,duration=1)\n",
    "    mc.dragRel(0,200,duration=1)\n",
    "    mc.dragRel(-200,0,duration=1)\n",
    "    mc.dragRel(0,-200,duration=1)\n",
    "    i=i+1"
   ]
  }
 ],
 "metadata": {
  "interpreter": {
   "hash": "31f2aee4e71d21fbe5cf8b01ff0e069b9275f58929596ceb00d14d90e3e16cd6"
  },
  "kernelspec": {
   "display_name": "Python 3.8.9 64-bit",
   "language": "python",
   "name": "python3"
  },
  "language_info": {
   "codemirror_mode": {
    "name": "ipython",
    "version": 3
   },
   "file_extension": ".py",
   "mimetype": "text/x-python",
   "name": "python",
   "nbconvert_exporter": "python",
   "pygments_lexer": "ipython3",
   "version": "3.8.9"
  },
  "orig_nbformat": 4
 },
 "nbformat": 4,
 "nbformat_minor": 2
}
